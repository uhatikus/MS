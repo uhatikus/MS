{
 "cells": [
  {
   "cell_type": "code",
   "execution_count": 101,
   "metadata": {},
   "outputs": [],
   "source": [
    "import pickle\n",
    "import numpy as np"
   ]
  },
  {
   "cell_type": "code",
   "execution_count": 114,
   "metadata": {},
   "outputs": [],
   "source": [
    "# datapath = \"../data/ct_dma/ct_dma_test.pkl\"\n",
    "datapath = \"../data/ct_dma/ct_dma_train.pkl\"\n",
    "# datapath = \"../data/ct_dma/ct_dma_valid.pkl\"\n",
    "with open(datapath, \"rb\") as f:\n",
    "    l_pred_errors = pickle.load(f)"
   ]
  },
  {
   "cell_type": "code",
   "execution_count": 115,
   "metadata": {},
   "outputs": [
    {
     "data": {
      "text/plain": [
       "10605"
      ]
     },
     "execution_count": 115,
     "metadata": {},
     "output_type": "execute_result"
    }
   ],
   "source": [
    "len(l_pred_errors)"
   ]
  },
  {
   "cell_type": "code",
   "execution_count": 8,
   "metadata": {},
   "outputs": [
    {
     "data": {
      "text/plain": [
       "209155000"
      ]
     },
     "execution_count": 8,
     "metadata": {},
     "output_type": "execute_result"
    }
   ],
   "source": [
    "l_pred_errors[0]['mmsi']"
   ]
  },
  {
   "cell_type": "code",
   "execution_count": 116,
   "metadata": {},
   "outputs": [
    {
     "data": {
      "text/plain": [
       "6"
      ]
     },
     "execution_count": 116,
     "metadata": {},
     "output_type": "execute_result"
    }
   ],
   "source": [
    "len(l_pred_errors[1][\"traj\"][0])"
   ]
  },
  {
   "cell_type": "code",
   "execution_count": 119,
   "metadata": {},
   "outputs": [
    {
     "name": "stdout",
     "output_type": "stream",
     "text": [
      "205451000\n",
      "[9.02284800e-01 2.41481481e-04 3.36666667e-01 1.90833333e-01\n",
      " 1.54631370e+09 2.05451000e+08]\n"
     ]
    }
   ],
   "source": [
    "print(l_pred_errors[0][\"mmsi\"])\n",
    "print(l_pred_errors[0][\"traj\"][0])"
   ]
  },
  {
   "cell_type": "code",
   "execution_count": 81,
   "metadata": {},
   "outputs": [],
   "source": [
    "for i in range(len(l_pred_errors)):\n",
    "    if (l_pred_errors[i][\"traj\"][:, :4] > 0.99999999).any():\n",
    "        print(i)\n",
    "        break"
   ]
  },
  {
   "cell_type": "code",
   "execution_count": 78,
   "metadata": {},
   "outputs": [
    {
     "data": {
      "text/plain": [
       "0.9999825925925925"
      ]
     },
     "execution_count": 78,
     "metadata": {},
     "output_type": "execute_result"
    }
   ],
   "source": [
    "l_pred_errors[50][\"traj\"][:, :4].max()"
   ]
  },
  {
   "cell_type": "code",
   "execution_count": 93,
   "metadata": {},
   "outputs": [
    {
     "name": "stdout",
     "output_type": "stream",
     "text": [
      "144\n",
      "104\n"
     ]
    }
   ],
   "source": [
    "max_len = 0\n",
    "max_i = -1\n",
    "for i in range(len(l_pred_errors)):\n",
    "    if len(l_pred_errors[i][\"traj\"]) > max_len:\n",
    "        max_len = len(l_pred_errors[i][\"traj\"])\n",
    "        max_i = i\n",
    "print(max_len)\n",
    "print(max_i)"
   ]
  },
  {
   "cell_type": "code",
   "execution_count": 100,
   "metadata": {},
   "outputs": [
    {
     "name": "stdout",
     "output_type": "stream",
     "text": [
      "24\n",
      "1205\n"
     ]
    }
   ],
   "source": [
    "min_len = 1000\n",
    "min_i = -1\n",
    "for i in range(len(l_pred_errors)):\n",
    "    if len(l_pred_errors[i][\"traj\"]) < min_len:\n",
    "        min_len = len(l_pred_errors[i][\"traj\"])\n",
    "        min_i = i\n",
    "print(min_len)\n",
    "print(min_i)"
   ]
  },
  {
   "cell_type": "code",
   "execution_count": 110,
   "metadata": {},
   "outputs": [],
   "source": [
    "\n",
    "for i in range(len(l_pred_errors)):\n",
    "    if (np.isnan(l_pred_errors[i][\"traj\"]).any()):\n",
    "        print(i)\n",
    "        break"
   ]
  },
  {
   "cell_type": "code",
   "execution_count": 73,
   "metadata": {},
   "outputs": [
    {
     "data": {
      "text/plain": [
       "2"
      ]
     },
     "execution_count": 73,
     "metadata": {},
     "output_type": "execute_result"
    }
   ],
   "source": [
    "len(l_pred_errors[213])"
   ]
  },
  {
   "cell_type": "code",
   "execution_count": null,
   "metadata": {},
   "outputs": [],
   "source": []
  }
 ],
 "metadata": {
  "kernelspec": {
   "display_name": ".venv",
   "language": "python",
   "name": "python3"
  },
  "language_info": {
   "codemirror_mode": {
    "name": "ipython",
    "version": 3
   },
   "file_extension": ".py",
   "mimetype": "text/x-python",
   "name": "python",
   "nbconvert_exporter": "python",
   "pygments_lexer": "ipython3",
   "version": "3.10.7"
  }
 },
 "nbformat": 4,
 "nbformat_minor": 2
}
