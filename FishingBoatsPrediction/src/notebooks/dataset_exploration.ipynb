{
 "cells": [
  {
   "cell_type": "code",
   "execution_count": 18,
   "metadata": {},
   "outputs": [],
   "source": [
    "import pandas as pd\n",
    "import plotly.express as px"
   ]
  },
  {
   "cell_type": "code",
   "execution_count": 19,
   "metadata": {},
   "outputs": [],
   "source": [
    "skipped_lines = []\n",
    "\n",
    "# Custom function to handle bad lines\n",
    "def bad_line_handler(line):\n",
    "    skipped_lines.append(line)\n",
    "    return None "
   ]
  },
  {
   "cell_type": "code",
   "execution_count": 20,
   "metadata": {},
   "outputs": [
    {
     "name": "stdout",
     "output_type": "stream",
     "text": [
      "Korean column names: ['MMSI', '선박명', '선종코드', 'IMO', '호출부호', 'DimA', 'DimB', 'DimC', 'DimD', '흘수', '추정톤수']\n",
      "English column names: ['MMSI', 'Ship Name', 'Linetype Code', 'IMO', 'Call Sign', 'DimA', 'DimB', 'DimC', 'DimD', 'Draft', 'Estimated Tons']\n",
      "   MMSI      Ship Name  Linetype Code          IMO Call Sign  DimA  DimB  \\\n",
      "0     0            NaN            0.0          NaN       NaN   0.0   0.0   \n",
      "1     1  HEMINGWAY3600           52.0  910417200.0      V3GU  13.0  20.0   \n",
      "2    10   BAOLI-10-99%            0.0          0.0       NaN   0.0   0.0   \n",
      "3   100    SUQIYU01201           30.0          0.0       600  26.0   8.0   \n",
      "4  1000              0           30.0        100.0       AAA  23.0  15.0   \n",
      "\n",
      "   DimC  DimD  Draft  Estimated Tons  \n",
      "0   0.0   0.0    0.0             0.0  \n",
      "1   6.0   3.0    4.0           114.0  \n",
      "2   0.0   0.0    0.0             0.0  \n",
      "3   5.0   2.0    0.0           124.0  \n",
      "4   3.0   3.0    0.0           174.0  \n"
     ]
    }
   ],
   "source": [
    "filename = '../../raw_data/Static.csv'\n",
    "df = pd.read_csv(filename, \n",
    "                 encoding='euc-kr', \n",
    "                 on_bad_lines=bad_line_handler,\n",
    "                 engine='python')\n",
    "                 \n",
    "kor_columns = list(df.columns)\n",
    "eng_columns = [\"MMSI\", \"Ship Name\", \"Linetype Code\", \"IMO\", \"Call Sign\", \"DimA\", \"DimB\", \"DimC\", \"DimD\", \"Draft\", \"Estimated Tons\"]\n",
    "df.columns = eng_columns\n",
    "print(f\"Korean column names: {kor_columns}\")\n",
    "print(f\"English column names: {eng_columns}\")\n",
    "print(df.head())\n",
    "\n",
    "# https://api.vtexplorer.com/docs/ref-aistypes.html"
   ]
  },
  {
   "cell_type": "code",
   "execution_count": 21,
   "metadata": {},
   "outputs": [
    {
     "data": {
      "text/plain": [
       "58679"
      ]
     },
     "execution_count": 21,
     "metadata": {},
     "output_type": "execute_result"
    }
   ],
   "source": [
    "len(df)"
   ]
  },
  {
   "cell_type": "code",
   "execution_count": null,
   "metadata": {},
   "outputs": [],
   "source": [
    "fishing_boats = df[df['Linetype Code'] == 30]"
   ]
  },
  {
   "cell_type": "code",
   "execution_count": 25,
   "metadata": {},
   "outputs": [
    {
     "data": {
      "text/plain": [
       "0.19628828030470866"
      ]
     },
     "execution_count": 25,
     "metadata": {},
     "output_type": "execute_result"
    }
   ],
   "source": [
    "len(fishing_boats)/len(df)"
   ]
  },
  {
   "cell_type": "code",
   "execution_count": 26,
   "metadata": {},
   "outputs": [
    {
     "name": "stdout",
     "output_type": "stream",
     "text": [
      "Korean column names: ['100044559', '2023-05-01 01:07:15', '34.7379983333333', '122.672906666667', '0.2', '177.4', '511']\n",
      "English column names: ['MMSI', 'Date', 'Latitude', 'Longitude', 'SOG', 'COG', 'Heading']\n",
      "        MMSI                 Date   Latitude   Longitude  SOG    COG  Heading\n",
      "0  100044559  2023-05-01 01:07:15  34.738002  122.672907  0.9  232.2      511\n",
      "1  100044559  2023-05-01 01:10:15  34.737837  122.672932  0.2  168.8      511\n",
      "2  100044559  2023-05-01 17:01:23  34.702052  122.633342  6.4  181.2      511\n",
      "3  100044559  2023-05-01 17:04:23  34.696788  122.633318  6.0  178.7      511\n",
      "4  100044559  2023-05-01 17:05:23  34.695100  122.633358  5.9  177.3      511\n"
     ]
    }
   ],
   "source": [
    "filename = '../../data/fishing_boats_dynamic/Dynamic_20230501_fishing_boats.csv'\n",
    "df_dynamic = pd.read_csv(filename, \n",
    "                 encoding='euc-kr', \n",
    "                 skiprows=2)\n",
    "# , \n",
    "#                  on_bad_lines=bad_line_handler,\n",
    "                #  engine='python')s\n",
    "                 \n",
    "kor_columns = list(df_dynamic.columns)\n",
    "eng_columns = [\"MMSI\", \"Date\", \"Latitude\", \"Longitude\", \"SOG\", \"COG\", \"Heading\"]\n",
    "# SOG = speed over ground\n",
    "# COG = course over ground\n",
    "# heading = where the ship is pointing\n",
    "df_dynamic.columns = eng_columns\n",
    "print(f\"Korean column names: {kor_columns}\")\n",
    "print(f\"English column names: {eng_columns}\")\n",
    "print(df_dynamic.head())"
   ]
  },
  {
   "cell_type": "code",
   "execution_count": 27,
   "metadata": {},
   "outputs": [
    {
     "data": {
      "text/plain": [
       "995104"
      ]
     },
     "execution_count": 27,
     "metadata": {},
     "output_type": "execute_result"
    }
   ],
   "source": [
    "len(df_dynamic)"
   ]
  },
  {
   "cell_type": "code",
   "execution_count": 28,
   "metadata": {},
   "outputs": [],
   "source": [
    "data_grouped = df_dynamic.groupby(\"MMSI\")"
   ]
  },
  {
   "cell_type": "code",
   "execution_count": 30,
   "metadata": {},
   "outputs": [],
   "source": [
    "for mmsi, data in data_grouped:\n",
    "    if len(data) < 10:\n",
    "        continue\n",
    "    # print(mmsi, len(data))\n",
    "    # print()\n",
    "    \n",
    "    data.to_csv(f\"../../data/processed_fishing_boats/mmsi_{mmsi}_len_{len(data)}.csv\")\n",
    "    # break"
   ]
  },
  {
   "cell_type": "code",
   "execution_count": 4,
   "metadata": {},
   "outputs": [],
   "source": [
    "df_dynamic['Date'] = pd.to_datetime(df_dynamic['Date'])\n",
    "df_dynamic = df_dynamic.sort_values(by=['MMSI', 'Date'])"
   ]
  },
  {
   "cell_type": "code",
   "execution_count": 5,
   "metadata": {},
   "outputs": [],
   "source": [
    "df_to_plot = df_dynamic[df_dynamic['MMSI']< 100000000]"
   ]
  },
  {
   "cell_type": "code",
   "execution_count": 6,
   "metadata": {},
   "outputs": [
    {
     "data": {
      "text/plain": [
       "0.002318439635773563"
      ]
     },
     "execution_count": 6,
     "metadata": {},
     "output_type": "execute_result"
    }
   ],
   "source": [
    "len(df_to_plot)/len(df_dynamic)"
   ]
  },
  {
   "cell_type": "code",
   "execution_count": 7,
   "metadata": {},
   "outputs": [],
   "source": [
    "# fig = px.scatter_mapbox(\n",
    "#     df_to_plot,\n",
    "#     lat=\"Latitude\",\n",
    "#     lon=\"Longitude\",\n",
    "#     color=\"MMSI\",  # Different colors for different ships\n",
    "#     size=\"SOG\",    # Size of points based on speed\n",
    "#     animation_frame=\"Date\",  # Dynamic animation over time\n",
    "#     title=\"Dynamic Ship Trajectories\",\n",
    "#     hover_data=[\"COG\", \"Heading\"]\n",
    "# )\n",
    "\n",
    "# # Configure the map style\n",
    "# fig.update_layout(\n",
    "#     mapbox_style=\"carto-positron\",\n",
    "#     mapbox_zoom=10,  # Adjust the zoom level\n",
    "#     mapbox_center={\"lat\": df_to_plot[\"Latitude\"].mean(), \"lon\": df_to_plot[\"Longitude\"].mean()},\n",
    "#     height=600,\n",
    "# )\n",
    "\n",
    "fig = px.line_mapbox(\n",
    "    df_to_plot,\n",
    "    lat=\"Latitude\",\n",
    "    lon=\"Longitude\",\n",
    "    color=\"MMSI\",  # Different colors for different boats\n",
    "    title=\"Ship Trajectories (1-5 Boats)\",\n",
    "    hover_data=[\"Date\", \"SOG\", \"COG\", \"Heading\"]\n",
    ")\n",
    "\n",
    "# Configure the map style\n",
    "fig.update_layout(\n",
    "    mapbox_style=\"carto-positron\",\n",
    "    mapbox_zoom=10,  # Adjust the zoom level\n",
    "    mapbox_center={\"lat\": df_to_plot[\"Latitude\"].mean(), \"lon\": df_to_plot[\"Longitude\"].mean()},\n",
    "    height=600,\n",
    ")\n",
    "\n",
    "fig.write_html(\"ship_trajectories.html\")\n"
   ]
  },
  {
   "cell_type": "code",
   "execution_count": null,
   "metadata": {},
   "outputs": [],
   "source": [
    "# fig.write_html(\"ship_trajectories_dynamic.html\")"
   ]
  },
  {
   "cell_type": "code",
   "execution_count": null,
   "metadata": {},
   "outputs": [],
   "source": []
  }
 ],
 "metadata": {
  "kernelspec": {
   "display_name": ".venv",
   "language": "python",
   "name": "python3"
  },
  "language_info": {
   "codemirror_mode": {
    "name": "ipython",
    "version": 3
   },
   "file_extension": ".py",
   "mimetype": "text/x-python",
   "name": "python",
   "nbconvert_exporter": "python",
   "pygments_lexer": "ipython3",
   "version": "3.12.6"
  }
 },
 "nbformat": 4,
 "nbformat_minor": 2
}
