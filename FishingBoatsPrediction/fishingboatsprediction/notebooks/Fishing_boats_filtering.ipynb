{
  "nbformat": 4,
  "nbformat_minor": 0,
  "metadata": {
    "colab": {
      "provenance": []
    },
    "kernelspec": {
      "name": "python3",
      "display_name": "Python 3"
    },
    "language_info": {
      "name": "python"
    }
  },
  "cells": [
    {
      "cell_type": "code",
      "execution_count": 1,
      "metadata": {
        "colab": {
          "base_uri": "https://localhost:8080/"
        },
        "id": "-j69ZHFK2FTd",
        "outputId": "8f291052-a3b4-4433-fa3c-2afe891ff758"
      },
      "outputs": [
        {
          "output_type": "stream",
          "name": "stdout",
          "text": [
            "Mounted at /content/drive\n",
            " 20240929_124221.mp4  'Israeli_passport_malyants_all_pages (1).pdf'\n",
            "'Alan Essays.gdoc'     Israeli_passport_malyants_all_pages.pdf\n",
            "'AlexIrina (1).pdf'   'Israeli_passport_ukhatov_all_pages (1).pdf'\n",
            " AlexIrina.pdf\t       Israeli_passport_ukhatov_all_pages.pdf\n",
            " Bioinformatics        Masters\n",
            "'Colab Notebooks'      mlabs_codes\n",
            " Documents\t      'Nomad visa.zip'\n"
          ]
        }
      ],
      "source": [
        "from google.colab import drive\n",
        "\n",
        "# Mount Google Drive\n",
        "drive.mount('/content/drive')\n",
        "\n",
        "# Now you can access your Google Drive files.  The path '/content/drive'\n",
        "# is the mount point.  Everything in your Drive will be accessible under\n",
        "# this directory.\n",
        "\n",
        "# Example: List files in your Drive's root directory\n",
        "!ls /content/drive/MyDrive"
      ]
    },
    {
      "cell_type": "code",
      "source": [
        "!ls /content/drive/MyDrive/Masters"
      ],
      "metadata": {
        "colab": {
          "base_uri": "https://localhost:8080/"
        },
        "id": "wa3O6VDd66hT",
        "outputId": "ccd1408d-21ec-46da-f569-26ba0de2fbcc"
      },
      "execution_count": 18,
      "outputs": [
        {
          "output_type": "stream",
          "name": "stdout",
          "text": [
            "FishingKoreaAIS  koreaais  MS\n"
          ]
        }
      ]
    },
    {
      "cell_type": "code",
      "source": [
        "!ls /content/drive/MyDrive/Masters/koreaais"
      ],
      "metadata": {
        "colab": {
          "base_uri": "https://localhost:8080/"
        },
        "id": "YxM2rNzj3NGq",
        "outputId": "09f0d9c0-b05a-4390-a07a-5123f67ce7c2"
      },
      "execution_count": 11,
      "outputs": [
        {
          "output_type": "stream",
          "name": "stdout",
          "text": [
            "Dynamic_20230501.csv  Dynamic_20230509.csv  Dynamic_20230517.csv  Dynamic_20230525.csv\n",
            "Dynamic_20230502.csv  Dynamic_20230510.csv  Dynamic_20230518.csv  Dynamic_20230526.csv\n",
            "Dynamic_20230503.csv  Dynamic_20230511.csv  Dynamic_20230519.csv  Dynamic_20230527.csv\n",
            "Dynamic_20230504.csv  Dynamic_20230512.csv  Dynamic_20230520.csv  Dynamic_20230528.csv\n",
            "Dynamic_20230505.csv  Dynamic_20230513.csv  Dynamic_20230521.csv  Dynamic_20230529.csv\n",
            "Dynamic_20230506.csv  Dynamic_20230514.csv  Dynamic_20230522.csv  Dynamic_20230530.csv\n",
            "Dynamic_20230507.csv  Dynamic_20230515.csv  Dynamic_20230523.csv  Dynamic_20230531.csv\n",
            "Dynamic_20230508.csv  Dynamic_20230516.csv  Dynamic_20230524.csv  Static.csv\n"
          ]
        }
      ]
    },
    {
      "cell_type": "code",
      "source": [
        "import pandas as pd\n",
        "import glob"
      ],
      "metadata": {
        "id": "wlGHYwzT6BBv"
      },
      "execution_count": 30,
      "outputs": []
    },
    {
      "cell_type": "code",
      "source": [
        "skipped_lines = []\n",
        "\n",
        "# Custom function to handle bad lines\n",
        "def bad_line_handler(line):\n",
        "    skipped_lines.append(line)\n",
        "    return None\n",
        "\n",
        "filename = '/content/drive/MyDrive/Masters/koreaais/Static.csv'\n",
        "df = pd.read_csv(filename,\n",
        "                 encoding='euc-kr',\n",
        "                 on_bad_lines=bad_line_handler,\n",
        "                 engine='python')\n",
        "\n",
        "kor_columns = list(df.columns)\n",
        "eng_columns = [\"MMSI\", \"Ship Name\", \"Linetype Code\", \"IMO\", \"Call Sign\", \"DimA\", \"DimB\", \"DimC\", \"DimD\", \"Draft\", \"Estimated Tons\"]\n",
        "df.columns = eng_columns\n",
        "print(f\"Korean column names: {kor_columns}\")\n",
        "print(f\"English column names: {eng_columns}\")\n",
        "print(df.head())"
      ],
      "metadata": {
        "colab": {
          "base_uri": "https://localhost:8080/"
        },
        "id": "WKpHS9nH2SDR",
        "outputId": "77f3d3fa-c76b-41fb-d559-3ebb259af4bf"
      },
      "execution_count": 13,
      "outputs": [
        {
          "output_type": "stream",
          "name": "stdout",
          "text": [
            "Korean column names: ['MMSI', '선박명', '선종코드', 'IMO', '호출부호', 'DimA', 'DimB', 'DimC', 'DimD', '흘수', '추정톤수']\n",
            "English column names: ['MMSI', 'Ship Name', 'Linetype Code', 'IMO', 'Call Sign', 'DimA', 'DimB', 'DimC', 'DimD', 'Draft', 'Estimated Tons']\n",
            "   MMSI      Ship Name  Linetype Code          IMO Call Sign  DimA  DimB  \\\n",
            "0     0            NaN            0.0          NaN       NaN   0.0   0.0   \n",
            "1     1  HEMINGWAY3600           52.0  910417200.0      V3GU  13.0  20.0   \n",
            "2    10   BAOLI-10-99%            0.0          0.0       NaN   0.0   0.0   \n",
            "3   100    SUQIYU01201           30.0          0.0       600  26.0   8.0   \n",
            "4  1000              0           30.0        100.0       AAA  23.0  15.0   \n",
            "\n",
            "   DimC  DimD  Draft  Estimated Tons  \n",
            "0   0.0   0.0    0.0             0.0  \n",
            "1   6.0   3.0    4.0           114.0  \n",
            "2   0.0   0.0    0.0             0.0  \n",
            "3   5.0   2.0    0.0           124.0  \n",
            "4   3.0   3.0    0.0           174.0  \n"
          ]
        }
      ]
    },
    {
      "cell_type": "code",
      "source": [
        "fishing_boats = df[df['Linetype Code'] == 30] # https://api.vtexplorer.com/docs/ref-aistypes.html"
      ],
      "metadata": {
        "id": "JIuGYr5c2vMY"
      },
      "execution_count": 14,
      "outputs": []
    },
    {
      "cell_type": "code",
      "source": [
        "fishing_boats.to_csv('/content/drive/MyDrive/Masters/FishingKoreaAIS/Static_fishing_boats.csv', index=False)"
      ],
      "metadata": {
        "id": "Gh_TCT0e6jrN"
      },
      "execution_count": 19,
      "outputs": []
    },
    {
      "cell_type": "code",
      "source": [
        "# checking that only fishing boats\n",
        "fishing_boats['Linetype Code'].unique()\n",
        "# len(fishing_boats['Linetype Code'].unique())"
      ],
      "metadata": {
        "colab": {
          "base_uri": "https://localhost:8080/"
        },
        "id": "dPeHtjPX6135",
        "outputId": "51e83c50-43f5-465b-f535-b258a64023fb"
      },
      "execution_count": 27,
      "outputs": [
        {
          "output_type": "execute_result",
          "data": {
            "text/plain": [
              "array([30.])"
            ]
          },
          "metadata": {},
          "execution_count": 27
        }
      ]
    },
    {
      "cell_type": "code",
      "source": [
        "fishing_boats_mmsi = set(fishing_boats[\"MMSI\"])"
      ],
      "metadata": {
        "id": "dt5A248w-O0v"
      },
      "execution_count": 49,
      "outputs": []
    },
    {
      "cell_type": "code",
      "source": [
        "# Get a list of all CSV files in the folder\n",
        "dynamic_data_files = glob.glob('/content/drive/MyDrive/Masters/koreaais/Dynamic_*.csv')\n",
        "\n",
        "for dynamic_data_file in dynamic_data_files:\n",
        "  df_dynamic = pd.read_csv(dynamic_data_file,\n",
        "                  encoding='euc-kr',\n",
        "                  skiprows=2)\n",
        "\n",
        "  kor_columns = list(df_dynamic.columns)\n",
        "  eng_columns = [\"MMSI\", \"Date\", \"Latitude\", \"Longitude\", \"SOG\", \"COG\", \"Heading\"]\n",
        "  # SOG = speed over ground\n",
        "  # COG = course over ground\n",
        "  # heading = where the ship is pointing\n",
        "  df_dynamic.columns = eng_columns\n",
        "  print(f\"Korean column names: {kor_columns}\")\n",
        "  print(f\"English column names: {eng_columns}\")\n",
        "  filtered_df = df_dynamic[df_dynamic[\"MMSI\"].isin(fishing_boats_mmsi)]\n",
        "  print(filtered_df.head())\n",
        "  filtered_df.to_csv(f'/content/drive/MyDrive/Masters/FishingKoreaAIS/{dynamic_data_file.split(\"/\")[-1][:-4]}_fishing_boats.csv', index=False)\n",
        "  # break"
      ],
      "metadata": {
        "colab": {
          "base_uri": "https://localhost:8080/"
        },
        "id": "-5SK_2Lu7EhV",
        "outputId": "4e0723a7-5150-4c55-ea7f-b6576a2f9ceb"
      },
      "execution_count": 56,
      "outputs": [
        {
          "output_type": "stream",
          "name": "stdout",
          "text": [
            "Korean column names: ['MMSI', '일시', '위도', '경도', 'SOG', 'COG', 'Heading']\n",
            "English column names: ['MMSI', 'Date', 'Latitude', 'Longitude', 'SOG', 'COG', 'Heading']\n",
            "         MMSI                 Date   Latitude   Longitude   SOG    COG  \\\n",
            "1   100000000  2023-05-01 09:04:23  36.717567  122.198050  10.1  342.6   \n",
            "87  100044559  2023-05-01 01:07:15  34.737998  122.672907   0.2  177.4   \n",
            "88  100044559  2023-05-01 01:07:15  34.738002  122.672907   0.9  232.2   \n",
            "89  100044559  2023-05-01 01:10:15  34.737837  122.672932   0.2  168.8   \n",
            "90  100044559  2023-05-01 17:01:23  34.702052  122.633342   6.4  181.2   \n",
            "\n",
            "    Heading  \n",
            "1       511  \n",
            "87      511  \n",
            "88      511  \n",
            "89      511  \n",
            "90      511  \n",
            "Korean column names: ['MMSI', '일시', '위도', '경도', 'SOG', 'COG', 'Heading']\n",
            "English column names: ['MMSI', 'Date', 'Latitude', 'Longitude', 'SOG', 'COG', 'Heading']\n",
            "          MMSI                 Date   Latitude   Longitude  SOG    COG  \\\n",
            "102  100044559  2023-05-02 17:08:29  34.689125  122.622248  6.0    2.7   \n",
            "103  100044559  2023-05-02 17:12:29  34.695995  122.622267  6.1    3.7   \n",
            "104  100044559  2023-05-02 17:15:28  34.701035  122.622233  6.0    0.9   \n",
            "105  100044559  2023-05-02 17:20:58  34.710367  122.622255  5.7  356.8   \n",
            "106  100044559  2023-05-02 17:22:28  34.712858  122.622187  6.0  355.4   \n",
            "\n",
            "     Heading  \n",
            "102      511  \n",
            "103      511  \n",
            "104      511  \n",
            "105      511  \n",
            "106      511  \n",
            "Korean column names: ['MMSI', '일시', '위도', '경도', 'SOG', 'COG', 'Heading']\n",
            "English column names: ['MMSI', 'Date', 'Latitude', 'Longitude', 'SOG', 'COG', 'Heading']\n",
            "          MMSI                 Date   Latitude   Longitude  SOG    COG  \\\n",
            "269  100044559  2023-05-03 00:14:49  34.829250  122.617448  1.1  327.5   \n",
            "270  100044559  2023-05-03 00:17:50  34.829992  122.617332  1.5    6.7   \n",
            "271  100044559  2023-05-03 00:26:49  34.832303  122.616960  0.8  347.8   \n",
            "272  100044559  2023-05-03 00:29:49  34.833093  122.616687  1.5  321.4   \n",
            "273  100044559  2023-05-03 00:41:50  34.835925  122.615482  1.0  324.1   \n",
            "\n",
            "     Heading  \n",
            "269      511  \n",
            "270      511  \n",
            "271      511  \n",
            "272      511  \n",
            "273      511  \n",
            "Korean column names: ['MMSI', '일시', '위도', '경도', 'SOG', 'COG', 'Heading']\n",
            "English column names: ['MMSI', 'Date', 'Latitude', 'Longitude', 'SOG', 'COG', 'Heading']\n",
            "            MMSI                 Date   Latitude   Longitude   SOG   COG  \\\n",
            "37585  273218310  2023-05-04 02:00:41  31.898167  124.714100  12.8  61.2   \n",
            "37586  273218310  2023-05-04 02:03:11  31.902633  124.723133  12.8  63.0   \n",
            "37587  273218310  2023-05-04 02:04:42  31.905483  124.728583  12.8  58.8   \n",
            "37588  273218310  2023-05-04 02:04:59  31.905967  124.729550  12.6  61.4   \n",
            "37589  273218310  2023-05-04 02:06:41  31.908950  124.735733  12.8  59.1   \n",
            "\n",
            "       Heading  \n",
            "37585       55  \n",
            "37586       57  \n",
            "37587       59  \n",
            "37588       58  \n",
            "37589       54  \n",
            "Korean column names: ['MMSI', '일시', '위도', '경도', 'SOG', 'COG', 'Heading']\n",
            "English column names: ['MMSI', 'Date', 'Latitude', 'Longitude', 'SOG', 'COG', 'Heading']\n",
            "             MMSI                 Date   Latitude   Longitude  SOG    COG  \\\n",
            "294088  412200579  2023-05-05 05:12:58  36.764247  124.561552  0.0  318.0   \n",
            "294089  412200579  2023-05-05 06:01:34  36.766717  124.560262  0.0   54.5   \n",
            "294090  412200579  2023-05-05 06:10:34  36.766812  124.560193  0.0   54.5   \n",
            "294091  412200579  2023-05-05 06:13:34  36.766838  124.560173  0.0   54.5   \n",
            "294092  412200579  2023-05-05 06:16:34  36.766873  124.560157  0.0   54.5   \n",
            "\n",
            "        Heading  \n",
            "294088      318  \n",
            "294089       54  \n",
            "294090       54  \n",
            "294091       54  \n",
            "294092       54  \n",
            "Korean column names: ['MMSI', '일시', '위도', '경도', 'SOG', 'COG', 'Heading']\n",
            "English column names: ['MMSI', 'Date', 'Latitude', 'Longitude', 'SOG', 'COG', 'Heading']\n",
            "            MMSI                 Date   Latitude   Longitude   SOG   COG  \\\n",
            "70945  273384760  2023-05-06 07:07:11  31.834292  125.218050  10.3  50.4   \n",
            "70946  273384760  2023-05-06 07:07:21  31.834608  125.218463  10.2  48.0   \n",
            "70947  273384760  2023-05-06 07:07:30  31.834877  125.218848  10.2  50.3   \n",
            "70948  273384760  2023-05-06 07:07:40  31.835195  125.219263  10.2  47.8   \n",
            "70949  273384760  2023-05-06 07:07:50  31.835503  125.219692  10.3  49.9   \n",
            "\n",
            "       Heading  \n",
            "70945       47  \n",
            "70946       47  \n",
            "70947       47  \n",
            "70948       47  \n",
            "70949       47  \n",
            "Korean column names: ['MMSI', '일시', '위도', '경도', 'SOG', 'COG', 'Heading']\n",
            "English column names: ['MMSI', 'Date', 'Latitude', 'Longitude', 'SOG', 'COG', 'Heading']\n",
            "             MMSI                 Date   Latitude   Longitude  SOG    COG  \\\n",
            "346029  411041836  2023-05-07 22:24:16  36.785733  125.091095  8.9  182.7   \n",
            "346030  411041836  2023-05-07 22:24:46  36.784413  125.091113  8.9  180.1   \n",
            "346031  411041836  2023-05-07 22:26:46  36.779338  125.091038  8.9  176.1   \n",
            "346032  411041836  2023-05-07 22:27:46  36.776778  125.091088  9.0  181.5   \n",
            "346033  411041836  2023-05-07 22:28:16  36.775605  125.091118  8.4  178.6   \n",
            "\n",
            "        Heading  \n",
            "346029      511  \n",
            "346030      511  \n",
            "346031      511  \n",
            "346032      511  \n",
            "346033      511  \n",
            "Korean column names: ['MMSI', '일시', '위도', '경도', 'SOG', 'COG', 'Heading']\n",
            "English column names: ['MMSI', 'Date', 'Latitude', 'Longitude', 'SOG', 'COG', 'Heading']\n",
            "          MMSI                 Date   Latitude   Longitude  SOG    COG  \\\n",
            "819  100917777  2023-05-08 07:31:37  35.040748  122.572723  9.1  133.8   \n",
            "820  100917777  2023-05-08 08:11:50  34.975453  122.670827  9.4  127.5   \n",
            "821  100917777  2023-05-08 18:59:12  34.336273  123.625900  4.0   92.3   \n",
            "822  100917777  2023-05-08 19:16:11  34.334875  123.649978  4.3   89.3   \n",
            "823  100917777  2023-05-08 20:01:45  34.311345  123.703500  6.0  187.4   \n",
            "\n",
            "     Heading  \n",
            "819      511  \n",
            "820      511  \n",
            "821      511  \n",
            "822      511  \n",
            "823      511  \n",
            "Korean column names: ['MMSI', '일시', '위도', '경도', 'SOG', 'COG', 'Heading']\n",
            "English column names: ['MMSI', 'Date', 'Latitude', 'Longitude', 'SOG', 'COG', 'Heading']\n",
            "          MMSI                 Date   Latitude   Longitude  SOG    COG  \\\n",
            "451  100917777  2023-05-09 00:05:43  34.242407  123.677070  1.2  260.9   \n",
            "452  100917777  2023-05-09 00:06:38  34.242408  123.676858  0.3  261.7   \n",
            "453  100917777  2023-05-09 00:27:26  34.242835  123.672143  0.7  280.9   \n",
            "454  100917777  2023-05-09 00:37:50  34.243522  123.670130  1.0  302.3   \n",
            "455  100917777  2023-05-09 00:43:46  34.244053  123.669035  0.8  293.5   \n",
            "\n",
            "     Heading  \n",
            "451      511  \n",
            "452      511  \n",
            "453      511  \n",
            "454      511  \n",
            "455      511  \n",
            "Korean column names: ['MMSI', '일시', '위도', '경도', 'SOG', 'COG', 'Heading']\n",
            "English column names: ['MMSI', 'Date', 'Latitude', 'Longitude', 'SOG', 'COG', 'Heading']\n",
            "           MMSI                 Date   Latitude   Longitude  SOG    COG  \\\n",
            "1184  100917777  2023-05-10 00:33:50  34.235953  123.865423  0.5  268.6   \n",
            "1185  100917777  2023-05-10 00:38:17  34.235888  123.864997  0.3  249.0   \n",
            "1186  100917777  2023-05-10 00:52:57  34.235883  123.863558  0.6  246.7   \n",
            "1187  100917777  2023-05-10 01:15:23  34.236595  123.861087  0.4  285.0   \n",
            "1188  100917777  2023-05-10 02:49:48  34.253637  123.853723  1.0  344.5   \n",
            "\n",
            "      Heading  \n",
            "1184      511  \n",
            "1185      511  \n",
            "1186      511  \n",
            "1187      511  \n",
            "1188      511  \n",
            "Korean column names: ['MMSI', '일시', '위도', '경도', 'SOG', 'COG', 'Heading']\n",
            "English column names: ['MMSI', 'Date', 'Latitude', 'Longitude', 'SOG', 'COG', 'Heading']\n",
            "           MMSI                 Date   Latitude   Longitude  SOG    COG  \\\n",
            "1455  100917777  2023-05-11 00:33:02  34.241415  123.731892  0.2  213.2   \n",
            "1456  100917777  2023-05-11 00:35:22  34.241248  123.731767  0.4  223.9   \n",
            "1457  100917777  2023-05-11 01:05:03  34.239897  123.729260  0.3  268.0   \n",
            "1458  100917777  2023-05-11 02:08:50  34.242607  123.722485  0.3  331.3   \n",
            "1459  100917777  2023-05-11 03:26:39  34.256897  123.716873  0.8    4.0   \n",
            "\n",
            "      Heading  \n",
            "1455      511  \n",
            "1456      511  \n",
            "1457      511  \n",
            "1458      511  \n",
            "1459      511  \n",
            "Korean column names: ['MMSI', '일시', '위도', '경도', 'SOG', 'COG', 'Heading']\n",
            "English column names: ['MMSI', 'Date', 'Latitude', 'Longitude', 'SOG', 'COG', 'Heading']\n",
            "           MMSI                 Date   Latitude   Longitude  SOG    COG  \\\n",
            "128   100052209  2023-05-12 18:03:55  36.334303  122.499903  0.6  355.0   \n",
            "1771  108672075  2023-05-12 05:23:38  34.159695  123.891005  7.6  166.2   \n",
            "1772  108672075  2023-05-12 06:18:19  34.108170  123.907135  1.3   20.2   \n",
            "1773  108672075  2023-05-12 06:19:52  34.108560  123.907418  1.1   18.5   \n",
            "1774  108672075  2023-05-12 06:34:42  34.108547  123.906222  4.4  293.8   \n",
            "\n",
            "      Heading  \n",
            "128       355  \n",
            "1771      511  \n",
            "1772      511  \n",
            "1773      511  \n",
            "1774      511  \n",
            "Korean column names: ['MMSI', '일시', '위도', '경도', 'SOG', 'COG', 'Heading']\n",
            "English column names: ['MMSI', 'Date', 'Latitude', 'Longitude', 'SOG', 'COG', 'Heading']\n",
            "           MMSI                 Date   Latitude   Longitude   SOG    COG  \\\n",
            "1381  100912665  2023-05-13 06:29:19  36.317622  122.738975  10.6  157.6   \n",
            "1382  100912665  2023-05-13 07:56:36  36.240778  122.777443   9.9  153.0   \n",
            "1383  100912665  2023-05-13 08:01:29  36.228752  122.785423   9.9  150.5   \n",
            "1384  100912665  2023-05-13 08:02:49  36.225517  122.787713  10.1  148.2   \n",
            "1385  100912665  2023-05-13 08:03:29  36.223867  122.788833  10.0  152.3   \n",
            "\n",
            "      Heading  \n",
            "1381      511  \n",
            "1382      511  \n",
            "1383      511  \n",
            "1384      511  \n",
            "1385      511  \n",
            "Korean column names: ['MMSI', '일시', '위도', '경도', 'SOG', 'COG', 'Heading']\n",
            "English column names: ['MMSI', 'Date', 'Latitude', 'Longitude', 'SOG', 'COG', 'Heading']\n",
            "           MMSI                 Date   Latitude   Longitude   SOG    COG  \\\n",
            "1358  100912665  2023-05-14 00:52:56  36.491205  122.293687   0.7   42.4   \n",
            "1359  100912665  2023-05-14 05:43:18  36.272440  122.454517  11.4  156.9   \n",
            "1360  100917777  2023-05-14 23:44:58  34.732137  123.592625   8.4   74.2   \n",
            "1361  100917777  2023-05-14 23:45:52  34.732645  123.595148   8.4   78.6   \n",
            "2454  108672075  2023-05-14 20:45:47  34.837180  123.455485   7.7  341.5   \n",
            "\n",
            "      Heading  \n",
            "1358      511  \n",
            "1359      511  \n",
            "1360      511  \n",
            "1361      511  \n",
            "2454      511  \n",
            "Korean column names: ['MMSI', '일시', '위도', '경도', 'SOG', 'COG', 'Heading']\n",
            "English column names: ['MMSI', 'Date', 'Latitude', 'Longitude', 'SOG', 'COG', 'Heading']\n",
            "           MMSI                 Date   Latitude   Longitude  SOG    COG  \\\n",
            "1687  100912665  2023-05-15 00:08:27  36.260613  122.723230  0.3  276.4   \n",
            "1688  100917777  2023-05-15 01:26:56  34.763068  123.629933  0.4  199.9   \n",
            "1689  100917777  2023-05-15 04:26:39  34.744990  123.623537  0.4  210.9   \n",
            "2683  108672075  2023-05-15 02:26:52  34.862280  123.451827  0.5  148.7   \n",
            "2684  108672075  2023-05-15 02:35:46  34.861867  123.451610  0.5  187.6   \n",
            "\n",
            "      Heading  \n",
            "1687      511  \n",
            "1688      511  \n",
            "1689      511  \n",
            "2683      511  \n",
            "2684      511  \n",
            "Korean column names: ['MMSI', '일시', '위도', '경도', 'SOG', 'COG', 'Heading']\n",
            "English column names: ['MMSI', 'Date', 'Latitude', 'Longitude', 'SOG', 'COG', 'Heading']\n",
            "           MMSI                 Date   Latitude   Longitude  SOG    COG  \\\n",
            "2815  108672075  2023-05-16 03:05:27  35.197305  122.495453  0.3    0.1   \n",
            "2816  108672075  2023-05-16 04:06:38  35.197618  122.491687  0.3    0.1   \n",
            "2817  108672075  2023-05-16 04:15:40  35.197503  122.491213  1.1  270.1   \n",
            "2818  108672075  2023-05-16 04:26:48  35.193795  122.490772  1.5  154.4   \n",
            "2819  108672075  2023-05-16 04:39:22  35.191447  122.498860  5.6   93.6   \n",
            "\n",
            "      Heading  \n",
            "2815      511  \n",
            "2816      511  \n",
            "2817      511  \n",
            "2818      511  \n",
            "2819      511  \n",
            "Korean column names: ['MMSI', '일시', '위도', '경도', 'SOG', 'COG', 'Heading']\n",
            "English column names: ['MMSI', 'Date', 'Latitude', 'Longitude', 'SOG', 'COG', 'Heading']\n",
            "             MMSI                 Date   Latitude   Longitude   SOG    COG  \\\n",
            "2669    200050722  2023-05-17 00:55:41  36.405037  122.814080   1.4  172.5   \n",
            "103079  273214410  2023-05-17 07:12:17  31.836233  124.804067  11.1   58.1   \n",
            "103080  273214410  2023-05-17 07:12:29  31.836550  124.804617  11.0   58.8   \n",
            "103081  273214410  2023-05-17 07:13:17  31.838000  124.807150  11.2   55.5   \n",
            "103082  273214410  2023-05-17 07:13:30  31.838283  124.807667  11.0   56.0   \n",
            "\n",
            "        Heading  \n",
            "2669          0  \n",
            "103079       61  \n",
            "103080       60  \n",
            "103081       61  \n",
            "103082       59  \n",
            "Korean column names: ['MMSI', '일시', '위도', '경도', 'SOG', 'COG', 'Heading']\n",
            "English column names: ['MMSI', 'Date', 'Latitude', 'Longitude', 'SOG', 'COG', 'Heading']\n",
            "             MMSI                 Date   Latitude   Longitude  SOG    COG  \\\n",
            "328340  412203252  2023-05-18 00:10:07  36.777727  125.078613  2.0  221.0   \n",
            "328341  412205743  2023-05-18 00:29:34  36.739218  124.547057  0.3   12.3   \n",
            "328342  412205743  2023-05-18 00:35:34  36.739403  124.547045  0.1   64.3   \n",
            "328343  412205743  2023-05-18 00:38:34  36.739528  124.547085  1.2  322.3   \n",
            "328344  412205743  2023-05-18 00:41:34  36.739573  124.547032  0.6  110.9   \n",
            "\n",
            "        Heading  \n",
            "328340      511  \n",
            "328341       12  \n",
            "328342       64  \n",
            "328343      243  \n",
            "328344       98  \n",
            "Korean column names: ['MMSI', '일시', '위도', '경도', 'SOG', 'COG', 'Heading']\n",
            "English column names: ['MMSI', 'Date', 'Latitude', 'Longitude', 'SOG', 'COG', 'Heading']\n",
            "            MMSI                 Date   Latitude   Longitude   SOG    COG  \\\n",
            "70116  273356070  2023-05-19 10:37:47  34.252017  123.969900  11.1  107.6   \n",
            "70117  273356070  2023-05-19 10:41:27  34.248767  123.982717  10.7  109.9   \n",
            "70118  273356070  2023-05-19 10:59:18  34.234200  124.046233  10.8  102.9   \n",
            "70119  273356070  2023-05-19 11:00:56  34.232933  124.052133  10.9  104.2   \n",
            "70120  273356070  2023-05-19 11:02:56  34.231417  124.059250  10.8  104.0   \n",
            "\n",
            "       Heading  \n",
            "70116      104  \n",
            "70117      105  \n",
            "70118      103  \n",
            "70119      103  \n",
            "70120      102  \n",
            "Korean column names: ['MMSI', '일시', '위도', '경도', 'SOG', 'COG', 'Heading']\n",
            "English column names: ['MMSI', 'Date', 'Latitude', 'Longitude', 'SOG', 'COG', 'Heading']\n",
            "          MMSI                 Date   Latitude   Longitude  SOG    COG  \\\n",
            "0    108672075  2023-05-20 23:18:51  36.065297  123.650092  1.5  130.3   \n",
            "1    108672075  2023-05-20 23:20:45  36.065045  123.650327  0.4  161.2   \n",
            "416  210000007  2023-05-20 21:48:26  36.765592  121.631027  0.1  315.9   \n",
            "417  210000007  2023-05-20 21:51:26  36.765565  121.631035  0.2  119.2   \n",
            "418  210000007  2023-05-20 23:00:26  36.765595  121.631018  0.0   95.8   \n",
            "\n",
            "     Heading  \n",
            "0        511  \n",
            "1        511  \n",
            "416      511  \n",
            "417      511  \n",
            "418      511  \n",
            "Korean column names: ['MMSI', '일시', '위도', '경도', 'SOG', 'COG', 'Heading']\n",
            "English column names: ['MMSI', 'Date', 'Latitude', 'Longitude', 'SOG', 'COG', 'Heading']\n",
            "          MMSI                 Date   Latitude   Longitude  SOG    COG  \\\n",
            "314  108672075  2023-05-21 05:57:46  36.064018  123.617482  1.2  305.6   \n",
            "315  108672075  2023-05-21 05:59:06  36.064352  123.617195  1.5    3.2   \n",
            "316  108672075  2023-05-21 06:01:06  36.065353  123.617512  1.8  351.8   \n",
            "317  108672075  2023-05-21 06:01:33  36.065518  123.617545  0.9  357.4   \n",
            "318  108672075  2023-05-21 06:05:06  36.066542  123.617820  1.8   16.9   \n",
            "\n",
            "     Heading  \n",
            "314      511  \n",
            "315      511  \n",
            "316      511  \n",
            "317      511  \n",
            "318      511  \n",
            "Korean column names: ['MMSI', '일시', '위도', '경도', 'SOG', 'COG', 'Heading']\n",
            "English column names: ['MMSI', 'Date', 'Latitude', 'Longitude', 'SOG', 'COG', 'Heading']\n",
            "         MMSI                 Date   Latitude   Longitude  SOG   COG  Heading\n",
            "11  108672075  2023-05-22 00:08:24  35.520308  123.622463  7.6  87.4      511\n",
            "12  108672075  2023-05-22 00:09:18  35.520353  123.624767  7.6  87.4      511\n",
            "13  108672075  2023-05-22 00:09:31  35.520370  123.625378  7.6  86.8      511\n",
            "14  108672075  2023-05-22 00:20:11  35.520953  123.653497  7.6  91.2      511\n",
            "15  108672075  2023-05-22 00:22:35  35.521152  123.659810  7.7  87.6      511\n",
            "Korean column names: ['MMSI', '일시', '위도', '경도', 'SOG', 'COG', 'Heading']\n",
            "English column names: ['MMSI', 'Date', 'Latitude', 'Longitude', 'SOG', 'COG', 'Heading']\n",
            "         MMSI                 Date   Latitude   Longitude  SOG    COG  Heading\n",
            "180  19211709  2023-05-23 06:44:50  32.895917  122.380380  3.7   80.4       80\n",
            "181  19211709  2023-05-23 07:25:42  32.895590  122.399510  1.5  116.4      116\n",
            "182  19211709  2023-05-23 07:42:57  32.894270  122.406127  0.7  122.8      122\n",
            "183  19211709  2023-05-23 07:42:58  32.894272  122.406140  1.7   87.0       87\n",
            "184  19211709  2023-05-23 08:21:27  32.888635  122.417137  1.7  170.8      170\n",
            "Korean column names: ['MMSI', '일시', '위도', '경도', 'SOG', 'COG', 'Heading']\n",
            "English column names: ['MMSI', 'Date', 'Latitude', 'Longitude', 'SOG', 'COG', 'Heading']\n",
            "            MMSI                 Date   Latitude   Longitude  SOG    COG  \\\n",
            "26031  223506325  2023-05-24 17:48:22  35.947555  122.724783  8.9    2.9   \n",
            "26032  223506325  2023-05-24 17:54:52  35.963760  122.724460  8.9  359.8   \n",
            "26033  223506325  2023-05-24 18:01:52  35.981075  122.724153  8.9  359.2   \n",
            "26034  223506325  2023-05-24 18:03:23  35.984825  122.724048  9.0  358.7   \n",
            "26035  223506325  2023-05-24 18:12:22  36.007003  122.723553  8.7  356.7   \n",
            "\n",
            "       Heading  \n",
            "26031      511  \n",
            "26032      511  \n",
            "26033      511  \n",
            "26034      511  \n",
            "26035      511  \n",
            "Korean column names: ['MMSI', '일시', '위도', '경도', 'SOG', 'COG', 'Heading']\n",
            "English column names: ['MMSI', 'Date', 'Latitude', 'Longitude', 'SOG', 'COG', 'Heading']\n",
            "             MMSI                 Date   Latitude   Longitude  SOG    COG  \\\n",
            "468599  412200083  2023-05-25 00:02:36  36.770140  122.198378  0.0  117.5   \n",
            "468600  412200083  2023-05-25 00:08:36  36.770107  122.198402  0.0  117.5   \n",
            "468601  412200083  2023-05-25 00:11:36  36.770132  122.198397  0.0  117.5   \n",
            "468602  412200083  2023-05-25 00:14:30  36.770122  122.198382  0.0  117.5   \n",
            "468603  412200083  2023-05-25 02:59:30  36.770530  122.197218  0.0  117.5   \n",
            "\n",
            "        Heading  \n",
            "468599      274  \n",
            "468600      274  \n",
            "468601      273  \n",
            "468602      271  \n",
            "468603      132  \n",
            "Korean column names: ['MMSI', '일시', '위도', '경도', 'SOG', 'COG', 'Heading']\n",
            "English column names: ['MMSI', 'Date', 'Latitude', 'Longitude', 'SOG', 'COG', 'Heading']\n",
            "          MMSI                 Date   Latitude   Longitude  SOG    COG  \\\n",
            "179  200023961  2023-05-26 01:46:17  35.105887  122.917250  9.3  154.3   \n",
            "180  200023961  2023-05-26 03:28:46  34.985895  123.002055  8.5  180.7   \n",
            "181  200023961  2023-05-26 03:42:45  34.952463  123.004742  8.6  172.9   \n",
            "182  200023961  2023-05-26 03:48:15  34.939330  123.006832  8.4  175.2   \n",
            "183  200023961  2023-05-26 03:53:45  34.926368  123.008818  8.6  168.5   \n",
            "\n",
            "     Heading  \n",
            "179      154  \n",
            "180      180  \n",
            "181      172  \n",
            "182      175  \n",
            "183      168  \n",
            "Korean column names: ['MMSI', '일시', '위도', '경도', 'SOG', 'COG', 'Heading']\n",
            "English column names: ['MMSI', 'Date', 'Latitude', 'Longitude', 'SOG', 'COG', 'Heading']\n",
            "            MMSI                 Date   Latitude   Longitude   SOG    COG  \\\n",
            "82543  273447750  2023-05-27 11:37:06  33.871183  125.977850  10.9  323.1   \n",
            "82544  273447750  2023-05-27 11:37:16  33.871583  125.977483  10.8  321.5   \n",
            "82545  273447750  2023-05-27 11:37:25  33.871933  125.977150  10.8  321.7   \n",
            "82546  273447750  2023-05-27 11:37:36  33.872367  125.976733  10.7  321.3   \n",
            "82547  273447750  2023-05-27 11:37:45  33.872733  125.976400  10.9  322.8   \n",
            "\n",
            "       Heading  \n",
            "82543      318  \n",
            "82544      317  \n",
            "82545      317  \n",
            "82546      318  \n",
            "82547      318  \n",
            "Korean column names: ['MMSI', '일시', '위도', '경도', 'SOG', 'COG', 'Heading']\n",
            "English column names: ['MMSI', 'Date', 'Latitude', 'Longitude', 'SOG', 'COG', 'Heading']\n",
            "             MMSI                 Date   Latitude   Longitude   SOG    COG  \\\n",
            "409896  412300189  2023-05-28 18:20:54  32.719452  122.443992   8.3  322.0   \n",
            "409897  412300189  2023-05-28 18:51:38  32.768858  122.379875   7.8  302.5   \n",
            "409898  412300189  2023-05-28 18:53:19  32.771995  122.376608  10.1  337.7   \n",
            "424563  412371225  2023-05-28 14:07:27  32.037820  124.998927   4.7  140.5   \n",
            "424564  412371225  2023-05-28 14:07:40  32.037595  124.999153   4.5  144.4   \n",
            "\n",
            "        Heading  \n",
            "409896      322  \n",
            "409897      302  \n",
            "409898      337  \n",
            "424563      140  \n",
            "424564      141  \n",
            "Korean column names: ['MMSI', '일시', '위도', '경도', 'SOG', 'COG', 'Heading']\n",
            "English column names: ['MMSI', 'Date', 'Latitude', 'Longitude', 'SOG', 'COG', 'Heading']\n",
            "            MMSI                 Date   Latitude   Longitude  SOG    COG  \\\n",
            "62183  273218310  2023-05-29 23:47:56  33.535650  125.976800  9.0  250.4   \n",
            "62184  273218310  2023-05-29 23:48:07  33.535500  125.976333  9.0  248.2   \n",
            "62185  273218310  2023-05-29 23:48:17  33.535317  125.975800  9.0  248.8   \n",
            "62186  273218310  2023-05-29 23:48:27  33.535167  125.975333  9.1  247.6   \n",
            "62187  273218310  2023-05-29 23:48:36  33.535017  125.974900  9.1  250.4   \n",
            "\n",
            "       Heading  \n",
            "62183      247  \n",
            "62184      247  \n",
            "62185      248  \n",
            "62186      247  \n",
            "62187      248  \n",
            "Korean column names: ['MMSI', '일시', '위도', '경도', 'SOG', 'COG', 'Heading']\n",
            "English column names: ['MMSI', 'Date', 'Latitude', 'Longitude', 'SOG', 'COG', 'Heading']\n",
            "            MMSI                 Date   Latitude   Longitude  SOG    COG  \\\n",
            "60669  273218310  2023-05-30 00:00:08  33.523667  125.942600  9.0  251.9   \n",
            "60670  273218310  2023-05-30 00:00:36  33.523233  125.941233  9.0  248.5   \n",
            "60671  273218310  2023-05-30 00:00:57  33.522917  125.940217  9.1  251.8   \n",
            "60672  273218310  2023-05-30 00:01:08  33.522767  125.939750  9.0  248.6   \n",
            "60673  273218310  2023-05-30 00:01:17  33.522633  125.939267  9.1  249.2   \n",
            "\n",
            "       Heading  \n",
            "60669      251  \n",
            "60670      250  \n",
            "60671      253  \n",
            "60672      251  \n",
            "60673      248  \n",
            "Korean column names: ['MMSI', '일시', '위도', '경도', 'SOG', 'COG', 'Heading']\n",
            "English column names: ['MMSI', 'Date', 'Latitude', 'Longitude', 'SOG', 'COG', 'Heading']\n",
            "            MMSI                 Date   Latitude   Longitude   SOG    COG  \\\n",
            "78182  273298090  2023-05-31 22:53:39  35.876700  123.432467  11.2  143.0   \n",
            "78183  273298090  2023-05-31 22:58:19  35.865050  123.443667  11.3  141.2   \n",
            "78184  273298090  2023-05-31 22:58:29  35.864650  123.444083  11.3  139.1   \n",
            "78185  273298090  2023-05-31 22:59:00  35.863367  123.445317  11.4  139.6   \n",
            "78186  273298090  2023-05-31 23:00:09  35.860550  123.448083  11.4  140.8   \n",
            "\n",
            "       Heading  \n",
            "78182      141  \n",
            "78183      140  \n",
            "78184      142  \n",
            "78185      143  \n",
            "78186      140  \n"
          ]
        }
      ]
    },
    {
      "cell_type": "code",
      "source": [
        "# fishing_boats_mmsi = set(fishing_boats[\"MMSI\"])\n",
        "# filtered_df = df_dynamic[df_dynamic[\"MMSI\"].isin(fishing_boats_mmsi)]\n",
        "# filtered_df"
      ],
      "metadata": {
        "id": "-aEExMM793pV"
      },
      "execution_count": 57,
      "outputs": []
    },
    {
      "cell_type": "code",
      "source": [
        "len(filtered_df)/len(df_dynamic)"
      ],
      "metadata": {
        "colab": {
          "base_uri": "https://localhost:8080/"
        },
        "id": "KUbrGhEN70Li",
        "outputId": "d1d2f3b9-8b64-4f01-aa5e-ce55673b6191"
      },
      "execution_count": 47,
      "outputs": [
        {
          "output_type": "execute_result",
          "data": {
            "text/plain": [
              "0.1858610482716577"
            ]
          },
          "metadata": {},
          "execution_count": 47
        }
      ]
    },
    {
      "cell_type": "code",
      "source": [
        "print(len(filtered_df), len(df_dynamic))"
      ],
      "metadata": {
        "colab": {
          "base_uri": "https://localhost:8080/"
        },
        "id": "Kc52IeGn9-t9",
        "outputId": "a6e58a9f-e4ce-42c2-f985-995297800152"
      },
      "execution_count": 48,
      "outputs": [
        {
          "output_type": "stream",
          "name": "stdout",
          "text": [
            "995106 5354032\n"
          ]
        }
      ]
    },
    {
      "cell_type": "code",
      "source": [
        "print(len(filtered_df))"
      ],
      "metadata": {
        "colab": {
          "base_uri": "https://localhost:8080/"
        },
        "id": "QuQK6Xh1-rjS",
        "outputId": "bbcf4ad3-61c5-48ce-d32e-593928c388f5"
      },
      "execution_count": 51,
      "outputs": [
        {
          "output_type": "stream",
          "name": "stdout",
          "text": [
            "995106\n"
          ]
        }
      ]
    },
    {
      "cell_type": "code",
      "source": [],
      "metadata": {
        "id": "yQZZACZI_NM5"
      },
      "execution_count": null,
      "outputs": []
    }
  ]
}