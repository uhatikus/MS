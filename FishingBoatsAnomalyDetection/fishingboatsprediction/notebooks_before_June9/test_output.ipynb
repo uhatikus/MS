{
 "cells": [
  {
   "cell_type": "code",
   "execution_count": 1,
   "metadata": {},
   "outputs": [],
   "source": [
    "import pickle"
   ]
  },
  {
   "cell_type": "code",
   "execution_count": 2,
   "metadata": {},
   "outputs": [],
   "source": [
    "with open(\"../../results/test_1/20250414_201529/all_test_samples.pkl\", \"rb\") as f:\n",
    "    data = pickle.load(f)"
   ]
  },
  {
   "cell_type": "code",
   "execution_count": 3,
   "metadata": {},
   "outputs": [
    {
     "data": {
      "text/plain": [
       "(2, 16, 88)"
      ]
     },
     "execution_count": 3,
     "metadata": {},
     "output_type": "execute_result"
    }
   ],
   "source": [
    "data.shape"
   ]
  },
  {
   "cell_type": "code",
   "execution_count": 4,
   "metadata": {},
   "outputs": [
    {
     "data": {
      "text/plain": [
       "(16, 88)"
      ]
     },
     "execution_count": 4,
     "metadata": {},
     "output_type": "execute_result"
    }
   ],
   "source": [
    "data[0].shape"
   ]
  },
  {
   "cell_type": "code",
   "execution_count": 5,
   "metadata": {},
   "outputs": [
    {
     "data": {
      "text/plain": [
       "array([[0., 0., 0., ..., 0., 0., 0.],\n",
       "       [0., 0., 0., ..., 0., 0., 0.],\n",
       "       [0., 0., 0., ..., 0., 0., 0.],\n",
       "       ...,\n",
       "       [0., 0., 0., ..., 0., 0., 0.],\n",
       "       [0., 0., 1., ..., 0., 0., 0.],\n",
       "       [1., 0., 0., ..., 0., 0., 0.]], dtype=float32)"
      ]
     },
     "execution_count": 5,
     "metadata": {},
     "output_type": "execute_result"
    }
   ],
   "source": [
    "data[0]"
   ]
  },
  {
   "cell_type": "code",
   "execution_count": 6,
   "metadata": {},
   "outputs": [
    {
     "data": {
      "text/plain": [
       "array([0.        , 0.        , 0.        , 0.05918297, 0.18694402,\n",
       "       0.4047763 , 0.36202204, 0.        , 0.2620266 , 0.        ,\n",
       "       0.17632988, 0.        , 0.06801069, 0.        , 0.        ,\n",
       "       0.3348261 , 0.        , 0.        , 0.        , 0.37690142,\n",
       "       0.        , 0.10388456, 0.26738852, 0.41767272, 0.        ,\n",
       "       0.        , 0.14153722, 0.3395241 , 0.        , 0.3961623 ,\n",
       "       0.        , 0.        , 0.        , 0.15646784, 0.        ,\n",
       "       0.33516696, 0.        , 0.        , 0.        , 0.        ,\n",
       "       0.        , 0.        , 0.        , 0.0251322 , 0.09093683,\n",
       "       0.        , 0.        , 0.15386312, 0.        , 0.00714497,\n",
       "       0.        , 0.        , 0.        , 0.        , 0.        ,\n",
       "       0.23687716, 0.5215511 , 0.        , 0.5802573 , 0.        ,\n",
       "       0.13039489, 0.        , 0.        , 0.        , 0.5193576 ,\n",
       "       0.27510637, 0.        , 0.        , 0.        , 0.7473354 ,\n",
       "       0.2843515 , 0.        , 0.10378544, 0.        , 0.4887553 ,\n",
       "       0.        , 0.        , 0.        , 0.2296683 , 0.        ,\n",
       "       0.        , 0.17499603, 0.14653753, 0.        , 0.17336115,\n",
       "       0.13820483, 0.3118224 , 0.6409181 ], dtype=float32)"
      ]
     },
     "execution_count": 6,
     "metadata": {},
     "output_type": "execute_result"
    }
   ],
   "source": [
    "data[0][5]"
   ]
  },
  {
   "cell_type": "code",
   "execution_count": 7,
   "metadata": {},
   "outputs": [
    {
     "data": {
      "text/plain": [
       "2"
      ]
     },
     "execution_count": 7,
     "metadata": {},
     "output_type": "execute_result"
    }
   ],
   "source": [
    "len(data)"
   ]
  },
  {
   "cell_type": "code",
   "execution_count": 8,
   "metadata": {},
   "outputs": [
    {
     "name": "stdout",
     "output_type": "stream",
     "text": [
      "(16, 88)\n",
      "(16, 88)\n"
     ]
    }
   ],
   "source": [
    "for i in range(len(data)):\n",
    "    print(data[i].shape)"
   ]
  },
  {
   "cell_type": "code",
   "execution_count": null,
   "metadata": {},
   "outputs": [],
   "source": []
  }
 ],
 "metadata": {
  "kernelspec": {
   "display_name": ".venv",
   "language": "python",
   "name": "python3"
  },
  "language_info": {
   "codemirror_mode": {
    "name": "ipython",
    "version": 3
   },
   "file_extension": ".py",
   "mimetype": "text/x-python",
   "name": "python",
   "nbconvert_exporter": "python",
   "pygments_lexer": "ipython3",
   "version": "3.12.6"
  }
 },
 "nbformat": 4,
 "nbformat_minor": 2
}
