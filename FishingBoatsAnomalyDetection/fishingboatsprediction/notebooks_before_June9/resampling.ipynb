{
 "cells": [
  {
   "cell_type": "code",
   "execution_count": 1,
   "id": "3125bdc9",
   "metadata": {},
   "outputs": [],
   "source": [
    "from typing import List, Dict\n",
    "import numpy as np\n",
    "import pandas as pd\n",
    "import glob\n",
    "from dataclasses import dataclass"
   ]
  },
  {
   "cell_type": "code",
   "execution_count": 16,
   "id": "eb77a8d8",
   "metadata": {},
   "outputs": [
    {
     "name": "stdout",
     "output_type": "stream",
     "text": [
      "Reading ../../data/FishingKoreaAISFull/Dynamic_20230514_fishing_boats.csv...\n",
      "Done!\n",
      "Reading ../../data/FishingKoreaAISFull/Dynamic_20230508_fishing_boats.csv...\n",
      "Done!\n",
      "Reading ../../data/FishingKoreaAISFull/Dynamic_20230520_fishing_boats.csv...\n",
      "Done!\n",
      "Reading ../../data/FishingKoreaAISFull/Dynamic_20230511_fishing_boats.csv...\n",
      "Done!\n",
      "Reading ../../data/FishingKoreaAISFull/Dynamic_20230525_fishing_boats.csv...\n",
      "Done!\n",
      "Reading ../../data/FishingKoreaAISFull/Dynamic_20230515_fishing_boats.csv...\n",
      "Done!\n",
      "Reading ../../data/FishingKoreaAISFull/Dynamic_20230509_fishing_boats.csv...\n",
      "Done!\n",
      "Reading ../../data/FishingKoreaAISFull/Dynamic_20230521_fishing_boats.csv...\n",
      "Done!\n",
      "Reading ../../data/FishingKoreaAISFull/Dynamic_20230510_fishing_boats.csv...\n",
      "Done!\n",
      "Reading ../../data/FishingKoreaAISFull/Dynamic_20230524_fishing_boats.csv...\n",
      "Done!\n",
      "Reading ../../data/FishingKoreaAISFull/Dynamic_20230516_fishing_boats.csv...\n",
      "Done!\n",
      "Reading ../../data/FishingKoreaAISFull/Dynamic_20230522_fishing_boats.csv...\n",
      "Done!\n",
      "Reading ../../data/FishingKoreaAISFull/Dynamic_20230513_fishing_boats.csv...\n",
      "Done!\n",
      "Reading ../../data/FishingKoreaAISFull/Dynamic_20230527_fishing_boats.csv...\n",
      "Done!\n",
      "Reading ../../data/FishingKoreaAISFull/Dynamic_20230517_fishing_boats.csv...\n",
      "Done!\n",
      "Reading ../../data/FishingKoreaAISFull/Dynamic_20230523_fishing_boats.csv...\n",
      "Done!\n",
      "Reading ../../data/FishingKoreaAISFull/Dynamic_20230512_fishing_boats.csv...\n",
      "Done!\n",
      "Reading ../../data/FishingKoreaAISFull/Dynamic_20230526_fishing_boats.csv...\n",
      "Done!\n",
      "Reading ../../data/FishingKoreaAISFull/Dynamic_20230507_fishing_boats.csv...\n",
      "Done!\n",
      "Reading ../../data/FishingKoreaAISFull/Dynamic_20230502_fishing_boats.csv...\n",
      "Done!\n",
      "Reading ../../data/FishingKoreaAISFull/Dynamic_20230506_fishing_boats.csv...\n",
      "Done!\n",
      "Reading ../../data/FishingKoreaAISFull/Dynamic_20230503_fishing_boats.csv...\n",
      "Done!\n",
      "Reading ../../data/FishingKoreaAISFull/Dynamic_20230519_fishing_boats.csv...\n",
      "Done!\n",
      "Reading ../../data/FishingKoreaAISFull/Dynamic_20230531_fishing_boats.csv...\n",
      "Done!\n",
      "Reading ../../data/FishingKoreaAISFull/Dynamic_20230505_fishing_boats.csv...\n",
      "Done!\n",
      "Reading ../../data/FishingKoreaAISFull/Dynamic_20230528_fishing_boats.csv...\n",
      "Done!\n",
      "Reading ../../data/FishingKoreaAISFull/Dynamic_20230518_fishing_boats.csv...\n",
      "Done!\n",
      "Reading ../../data/FishingKoreaAISFull/Dynamic_20230530_fishing_boats.csv...\n",
      "Done!\n",
      "Reading ../../data/FishingKoreaAISFull/Dynamic_20230504_fishing_boats.csv...\n",
      "Done!\n",
      "Reading ../../data/FishingKoreaAISFull/Dynamic_20230529_fishing_boats.csv...\n",
      "Done!\n",
      "Reading ../../data/FishingKoreaAISFull/Dynamic_20230501_fishing_boats.csv...\n",
      "Done!\n"
     ]
    }
   ],
   "source": [
    "all_boats_trajectories = {}\n",
    "dataset_path = \"../../data/FishingKoreaAISFull/Dynamic_*.csv\"\n",
    "dynamic_data_files = glob.glob(dataset_path)\n",
    "\n",
    "for dynamic_data_file in dynamic_data_files:\n",
    "    print(f\"Reading {dynamic_data_file}...\")\n",
    "    df_dynamic = pd.read_csv(dynamic_data_file)\n",
    "    data_grouped = df_dynamic.groupby(\"MMSI\")\n",
    "    for mmsi, data in data_grouped:\n",
    "        if mmsi not in all_boats_trajectories:\n",
    "            all_boats_trajectories[mmsi] = (\n",
    "                data.copy()\n",
    "            )  # Create a copy to avoid SettingWithCopyWarning\n",
    "        else:\n",
    "            all_boats_trajectories[mmsi] = pd.concat(\n",
    "                [all_boats_trajectories[mmsi], data], ignore_index=True\n",
    "            )\n",
    "    print(\"Done!\")\n",
    "    \n",
    "    # break"
   ]
  },
  {
   "cell_type": "code",
   "execution_count": 3,
   "id": "d993b612",
   "metadata": {},
   "outputs": [],
   "source": [
    "@dataclass\n",
    "class AISColumnNames:\n",
    "    Date: str = \"Date\"\n",
    "    Sampled_Date: str = \"Sampled_Date\"\n",
    "    Latitude: str = \"Latitude\"\n",
    "    Longitude: str = \"Longitude\"\n",
    "    Pseudo_Longitude: str = \"Pseudo_Longitude\"\n",
    "    SOG: str = \"SOG\"\n",
    "    COG: str = \"COG\"\n",
    "    Heading: str = \"Heading\"\n",
    "\n",
    "    n_Latitude: str = \"norm Latitude\"\n",
    "    n_Longitude: str = \"norm Longitude\"\n",
    "    n_SOG: str = \"norm SOG\"\n",
    "    n_COG: str = \"norm COG\"\n",
    "    n_Heading: str = \"norm Heading\"\n",
    "\n",
    "    is_synthetic: str = \"is_synthetic\"\n",
    "    to_predict: str = \"to_predict\"\n"
   ]
  },
  {
   "cell_type": "code",
   "execution_count": 4,
   "id": "99c32b46",
   "metadata": {},
   "outputs": [],
   "source": [
    "cols: AISColumnNames = AISColumnNames()\n",
    "target_freq_in_minutes = 10\n",
    "target_freq: str = f\"{target_freq_in_minutes}min\"\n",
    "sample_T: pd.Timedelta = pd.Timedelta(minutes=target_freq_in_minutes)\n",
    "\n",
    "def get_sampled_trajectory(trajectory: pd.DataFrame) -> pd.DataFrame:\n",
    "        trajectory[cols.Date] = pd.to_datetime(trajectory[cols.Date])\n",
    "        trajectory = trajectory.set_index(cols.Date)\n",
    "        trajectory = trajectory.sort_index()\n",
    "\n",
    "        # add first and last steps of trajectory which are divisible by 10 minutes\n",
    "        first = trajectory.iloc[:1].copy()\n",
    "        first.index = [trajectory.index.min().floor(target_freq)]\n",
    "        last = trajectory.iloc[-1:].copy()\n",
    "        last.index = [trajectory.index.max().ceil(target_freq)]\n",
    "        trajectory = pd.concat([first, trajectory, last])\n",
    "\n",
    "        # Define exact 10-minute sampling times\n",
    "        start_time = trajectory.index.min().floor(\"h\")  # Round down to the nearest hour\n",
    "        end_time = trajectory.index.max().ceil(\"h\")  # Round up to the nearest hour\n",
    "        sampling_times = pd.date_range(start_time, end_time, freq=target_freq)\n",
    "\n",
    "        # Filter only timestamps where at least one real record exists within ±10 minutes\n",
    "        valid_sampling_times = [\n",
    "            t\n",
    "            for t in sampling_times\n",
    "            if any(abs(trajectory.index - t) <= sample_T)\n",
    "        ]\n",
    "\n",
    "        trajectory = trajectory[~trajectory.index.duplicated(keep=\"first\")]\n",
    "        trajectory_interpolated = trajectory.reindex(\n",
    "            trajectory.index.union(valid_sampling_times)\n",
    "        ).sort_index()\n",
    "\n",
    "        # Perform linear interpolation\n",
    "        trajectory_interpolated = trajectory_interpolated.interpolate(method=\"time\")\n",
    "\n",
    "        # Keep only the sampled timestamps and drop any remaining NaNs\n",
    "        trajectory_sampled = (\n",
    "            trajectory_interpolated.loc[valid_sampling_times].dropna().reset_index()\n",
    "        )\n",
    "        trajectory_sampled.rename(\n",
    "            columns={\"index\": cols.Sampled_Date}, inplace=True\n",
    "        )\n",
    "        return trajectory_sampled"
   ]
  },
  {
   "cell_type": "code",
   "execution_count": 18,
   "id": "32aa4857",
   "metadata": {},
   "outputs": [],
   "source": [
    "all_boats_trajectories_list = list(all_boats_trajectories.values())\n",
    "     \n"
   ]
  },
  {
   "cell_type": "code",
   "execution_count": 20,
   "id": "254ed829",
   "metadata": {},
   "outputs": [
    {
     "data": {
      "text/plain": [
       "1251"
      ]
     },
     "execution_count": 20,
     "metadata": {},
     "output_type": "execute_result"
    }
   ],
   "source": [
    "len(all_boats_trajectories_list)"
   ]
  },
  {
   "cell_type": "code",
   "execution_count": 37,
   "id": "e50f0f02",
   "metadata": {},
   "outputs": [],
   "source": [
    "import os\n",
    "import re\n",
    "directory = \"../../data/FishingKoreaAIS_sampled\"\n",
    "pattern = r\"len_(\\d+)_mmsi_(\\d+).csv\"\n",
    "\n",
    "# List to store len values\n",
    "mmsi_values = []\n",
    "\n",
    "# Iterate through files in the directory\n",
    "for filename in os.listdir(directory):\n",
    "    match = re.match(pattern, filename)\n",
    "    if match:\n",
    "        mmsi = int(match.group(2))\n",
    "        mmsi_values.append(mmsi)"
   ]
  },
  {
   "cell_type": "code",
   "execution_count": 38,
   "id": "2754626c",
   "metadata": {},
   "outputs": [
    {
     "data": {
      "text/plain": [
       "1251"
      ]
     },
     "execution_count": 38,
     "metadata": {},
     "output_type": "execute_result"
    }
   ],
   "source": [
    "len(mmsi_values)"
   ]
  },
  {
   "cell_type": "code",
   "execution_count": 36,
   "id": "40da1ef9",
   "metadata": {},
   "outputs": [],
   "source": [
    "for boat_trajectory in all_boats_trajectories_list:\n",
    "    if int(list(boat_trajectory[\"MMSI\"])[0]) in mmsi_values:\n",
    "        continue\n",
    "    sampled_boat_trajectory = get_sampled_trajectory(boat_trajectory)\n",
    "    # print(sampled_boat_trajectory)\n",
    "    sampled_boat_trajectory.to_csv(f\"../../data/FishingKoreaAIS_sampled/len_{len(sampled_boat_trajectory)}_mmsi_{int(sampled_boat_trajectory[\"MMSI\"][0])}.csv\")\n",
    "    # break"
   ]
  },
  {
   "cell_type": "code",
   "execution_count": 11,
   "id": "eeb47b71",
   "metadata": {},
   "outputs": [
    {
     "data": {
      "text/plain": [
       "41215086"
      ]
     },
     "execution_count": 11,
     "metadata": {},
     "output_type": "execute_result"
    }
   ],
   "source": [
    "int(sampled_boat_trajectory[\"MMSI\"][0])"
   ]
  },
  {
   "cell_type": "code",
   "execution_count": 12,
   "id": "0ddd5155",
   "metadata": {},
   "outputs": [
    {
     "data": {
      "text/plain": [
       "3"
      ]
     },
     "execution_count": 12,
     "metadata": {},
     "output_type": "execute_result"
    }
   ],
   "source": [
    "len(sampled_boat_trajectory)"
   ]
  },
  {
   "cell_type": "code",
   "execution_count": null,
   "id": "3eb41c38",
   "metadata": {},
   "outputs": [],
   "source": []
  }
 ],
 "metadata": {
  "kernelspec": {
   "display_name": ".venv",
   "language": "python",
   "name": "python3"
  },
  "language_info": {
   "codemirror_mode": {
    "name": "ipython",
    "version": 3
   },
   "file_extension": ".py",
   "mimetype": "text/x-python",
   "name": "python",
   "nbconvert_exporter": "python",
   "pygments_lexer": "ipython3",
   "version": "3.12.6"
  }
 },
 "nbformat": 4,
 "nbformat_minor": 5
}
